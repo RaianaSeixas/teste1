{
 "cells": [
  {
   "cell_type": "code",
   "execution_count": 2,
   "metadata": {},
   "outputs": [],
   "source": [
    "from datetime import datetime, date,timedelta"
   ]
  },
  {
   "cell_type": "code",
   "execution_count": 16,
   "metadata": {},
   "outputs": [
    {
     "name": "stdout",
     "output_type": "stream",
     "text": [
      "1987-10-23\n",
      "<class 'datetime.date'>\n"
     ]
    },
    {
     "data": {
      "text/plain": [
       "datetime.date(1987, 10, 23)"
      ]
     },
     "execution_count": 16,
     "metadata": {},
     "output_type": "execute_result"
    }
   ],
   "source": [
    "n = date(1987,10,23)\n",
    "print(n)\n",
    "print(type(n))\n",
    "n"
   ]
  },
  {
   "cell_type": "code",
   "execution_count": 18,
   "metadata": {},
   "outputs": [
    {
     "data": {
      "text/plain": [
       "23"
      ]
     },
     "execution_count": 18,
     "metadata": {},
     "output_type": "execute_result"
    }
   ],
   "source": [
    "n.day"
   ]
  },
  {
   "cell_type": "code",
   "execution_count": 13,
   "metadata": {},
   "outputs": [
    {
     "name": "stdout",
     "output_type": "stream",
     "text": [
      "23/10/87\n",
      "<class 'str'>\n"
     ]
    }
   ],
   "source": [
    "f = n.strftime(\"%d/%m/%y\")\n",
    "print(f)\n",
    "print(type(f))          "
   ]
  },
  {
   "cell_type": "code",
   "execution_count": 14,
   "metadata": {},
   "outputs": [
    {
     "name": "stdout",
     "output_type": "stream",
     "text": [
      "87,outubro,23\n",
      "23/out/1987\n",
      "1987-10-23\n"
     ]
    }
   ],
   "source": [
    "print(n.strftime('%y,%B,%d'))\n",
    "print(n.strftime('%d/%b/%Y'))\n",
    "print(n)"
   ]
  },
  {
   "cell_type": "code",
   "execution_count": 6,
   "metadata": {},
   "outputs": [
    {
     "name": "stdout",
     "output_type": "stream",
     "text": [
      "2024-07-22 20:34:59.744009\n",
      "Monday, July 22 of 2024, 08:34 pm\n"
     ]
    }
   ],
   "source": [
    "hoje =datetime.today() \n",
    "print(hoje)\n",
    "print(hoje.strftime('%A, %B %d of %Y, %I:%M pm'))"
   ]
  },
  {
   "cell_type": "code",
   "execution_count": 7,
   "metadata": {},
   "outputs": [
    {
     "name": "stdout",
     "output_type": "stream",
     "text": [
      "segunda-feira, 22 de julho de 2024, 20:34:59\n"
     ]
    }
   ],
   "source": [
    "import locale\n",
    "\n",
    "# Definindo a localização para português do Brasil\n",
    "locale.setlocale(locale.LC_TIME, 'pt_BR.UTF-8')\n",
    "\n",
    "# Obtendo a data e hora atual\n",
    "now = datetime.now()\n",
    "\n",
    "# Formatando a data para exibir nomes de meses e dias da semana em português\n",
    "formatted_date = now.strftime(\"%A, %d de %B de %Y, %H:%M:%S\")\n",
    "print(formatted_date)\n"
   ]
  },
  {
   "cell_type": "code",
   "execution_count": 8,
   "metadata": {},
   "outputs": [
    {
     "name": "stdout",
     "output_type": "stream",
     "text": [
      "2024-07-22 20:34:59.803327\n"
     ]
    }
   ],
   "source": [
    "agora = datetime.now()\n",
    "print(agora)"
   ]
  },
  {
   "cell_type": "code",
   "execution_count": 9,
   "metadata": {},
   "outputs": [],
   "source": [
    "#!pip install pytz"
   ]
  },
  {
   "cell_type": "code",
   "execution_count": 10,
   "metadata": {},
   "outputs": [
    {
     "name": "stdout",
     "output_type": "stream",
     "text": [
      "Hora atual em Nova York: 2024-07-22 19:34:59.865168-04:00\n"
     ]
    }
   ],
   "source": [
    "import pytz\n",
    "\n",
    "# Definindo o fuso horário de Nova York\n",
    "ny_timezone = pytz.timezone(\"America/New_York\")\n",
    "\n",
    "# Obtendo a hora atual em Nova York\n",
    "ny_time = datetime.now(ny_timezone)\n",
    "print(\"Hora atual em Nova York:\", ny_time)\n"
   ]
  },
  {
   "cell_type": "code",
   "execution_count": 22,
   "metadata": {},
   "outputs": [
    {
     "name": "stdout",
     "output_type": "stream",
     "text": [
      "Idade: 23 anos\n"
     ]
    }
   ],
   "source": [
    "def calculate_age(birth_date: datetime) -> int:\n",
    "    \"\"\"\n",
    "    Calcula a idade com base na data de nascimento.\n",
    "    \n",
    "    Args:\n",
    "    birth_date (datetime): Data de nascimento.\n",
    "    \n",
    "    Returns:\n",
    "    int: Idade calculada em anos.\n",
    "    \"\"\"\n",
    "    # Obtendo a data atual\n",
    "    today = datetime.now()\n",
    "    \n",
    "    # Calculando a diferença em anos\n",
    "    age = today.year - birth_date.year\n",
    "    \n",
    "    # Ajustando a idade se o aniversário ainda não ocorreu este ano\n",
    "    if (today.month, today.day) < (birth_date.month, birth_date.day):\n",
    "        #age -= 1\n",
    "        age = age -1\n",
    "        \n",
    "    return age\n",
    "\n",
    "# Exemplo de uso\n",
    "age = calculate_age(date(2000, 9, 1)) # Substitua pela data de nascimento desejada\n",
    "print(f\"Idade: {age} anos\")\n"
   ]
  },
  {
   "cell_type": "code",
   "execution_count": 24,
   "metadata": {},
   "outputs": [
    {
     "name": "stdout",
     "output_type": "stream",
     "text": [
      "2024-08-01 20:34:59.744009\n"
     ]
    }
   ],
   "source": [
    "#timedelta\n",
    "lastWeek = hoje + timedelta(days = 10)\n",
    "print(lastWeek)"
   ]
  },
  {
   "cell_type": "code",
   "execution_count": null,
   "metadata": {},
   "outputs": [],
   "source": []
  }
 ],
 "metadata": {
  "kernelspec": {
   "display_name": "Python 3",
   "language": "python",
   "name": "python3"
  },
  "language_info": {
   "codemirror_mode": {
    "name": "ipython",
    "version": 3
   },
   "file_extension": ".py",
   "mimetype": "text/x-python",
   "name": "python",
   "nbconvert_exporter": "python",
   "pygments_lexer": "ipython3",
   "version": "3.11.9"
  }
 },
 "nbformat": 4,
 "nbformat_minor": 2
}
